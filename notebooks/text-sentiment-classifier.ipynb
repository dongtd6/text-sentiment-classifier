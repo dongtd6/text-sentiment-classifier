{
  "cells": [
    {
      "cell_type": "markdown",
      "metadata": {
        "id": "cfRsVFF-uwOJ"
      },
      "source": [
        "\n",
        "# **Xây dựng Model phân loại đánh giá sản phẩm**"
      ]
    },
    {
      "cell_type": "code",
      "execution_count": 1,
      "metadata": {
        "colab": {
          "base_uri": "https://localhost:8080/"
        },
        "id": "hr33pOVLDTtW",
        "outputId": "2634c49b-171c-4eec-d5e1-b97e41d1aa33"
      },
      "outputs": [
        {
          "name": "stdout",
          "output_type": "stream",
          "text": [
            "Requirement already satisfied: pandas in /home/dongtd6/Material MLOPs 1/Text Sentiment Classifier/venv/lib/python3.8/site-packages (1.4.4)\n",
            "Requirement already satisfied: scikit-learn in /home/dongtd6/Material MLOPs 1/Text Sentiment Classifier/venv/lib/python3.8/site-packages (1.0.2)\n",
            "Requirement already satisfied: joblib in /home/dongtd6/Material MLOPs 1/Text Sentiment Classifier/venv/lib/python3.8/site-packages (1.1.0)\n",
            "Requirement already satisfied: python-dateutil>=2.8.1 in /home/dongtd6/Material MLOPs 1/Text Sentiment Classifier/venv/lib/python3.8/site-packages (from pandas) (2.9.0.post0)\n",
            "Requirement already satisfied: pytz>=2020.1 in /home/dongtd6/Material MLOPs 1/Text Sentiment Classifier/venv/lib/python3.8/site-packages (from pandas) (2025.2)\n",
            "Requirement already satisfied: numpy>=1.18.5 in /home/dongtd6/Material MLOPs 1/Text Sentiment Classifier/venv/lib/python3.8/site-packages (from pandas) (1.24.4)\n",
            "Requirement already satisfied: scipy>=1.1.0 in /home/dongtd6/Material MLOPs 1/Text Sentiment Classifier/venv/lib/python3.8/site-packages (from scikit-learn) (1.10.1)\n",
            "Requirement already satisfied: threadpoolctl>=2.0.0 in /home/dongtd6/Material MLOPs 1/Text Sentiment Classifier/venv/lib/python3.8/site-packages (from scikit-learn) (3.5.0)\n",
            "Requirement already satisfied: six>=1.5 in /home/dongtd6/Material MLOPs 1/Text Sentiment Classifier/venv/lib/python3.8/site-packages (from python-dateutil>=2.8.1->pandas) (1.17.0)\n"
          ]
        }
      ],
      "source": [
        "!pip install pandas scikit-learn joblib"
      ]
    },
    {
      "cell_type": "markdown",
      "metadata": {
        "id": "Lrbb9oUMvCOc"
      },
      "source": [
        "## **1. Import các thư viện cần thiết**"
      ]
    },
    {
      "cell_type": "code",
      "execution_count": 2,
      "metadata": {
        "id": "6dJOBvdkCzLd"
      },
      "outputs": [],
      "source": [
        "import pandas as pd\n",
        "from sklearn.model_selection import train_test_split\n",
        "from sklearn.feature_extraction.text import TfidfVectorizer\n",
        "from sklearn.linear_model import LogisticRegression\n",
        "from sklearn.metrics import classification_report, accuracy_score\n",
        "import joblib\n",
        "import os"
      ]
    },
    {
      "cell_type": "markdown",
      "metadata": {
        "id": "ymq5ZWfXvLB0"
      },
      "source": [
        "## **2. Tải dữ liệu**"
      ]
    },
    {
      "cell_type": "code",
      "execution_count": 4,
      "metadata": {
        "colab": {
          "base_uri": "https://localhost:8080/"
        },
        "id": "5FRoKnz7C0Bo",
        "outputId": "a48f6372-c2ab-4ae0-b0da-5358df48257f"
      },
      "outputs": [
        {
          "name": "stdout",
          "output_type": "stream",
          "text": [
            "Đã tải dữ liệu thành công!\n",
            "5 dòng đầu tiên của dữ liệu:\n",
            "                       comment label  rate Unnamed: 3\n",
            "0               Áo bao đẹp ạ!!   POS     5        NaN\n",
            "1                  Tuyệt vời !   POS     5        NaN\n",
            "2   2day ao khong giong trong.   NEG     1        NaN\n",
            "3  Mùi thơm,bôi lên da mềm da.   POS     5        NaN\n",
            "4            Vải đẹp, dày dặn.   POS     5        NaN\n",
            "\n",
            "Thông tin dữ liệu:\n",
            "<class 'pandas.core.frame.DataFrame'>\n",
            "RangeIndex: 18183 entries, 0 to 18182\n",
            "Data columns (total 4 columns):\n",
            " #   Column      Non-Null Count  Dtype \n",
            "---  ------      --------------  ----- \n",
            " 0   comment     18183 non-null  object\n",
            " 1   label       18183 non-null  object\n",
            " 2   rate        18183 non-null  int64 \n",
            " 3   Unnamed: 3  23 non-null     object\n",
            "dtypes: int64(1), object(3)\n",
            "memory usage: 568.3+ KB\n"
          ]
        }
      ],
      "source": [
        "# Định nghĩa đường dẫn tới file CSV\n",
        "file_path = 'data.csv'\n",
        "\n",
        "# Kiểm tra xem file có tồn tại không\n",
        "if not os.path.exists(file_path):\n",
        "    print(f\"Lỗi: File không tìm thấy tại đường dẫn: {file_path}\")\n",
        "\n",
        "# Tải dữ liệu từ file CSV vào DataFrame\n",
        "try:\n",
        "    df = pd.read_csv(file_path)\n",
        "    print(\"Đã tải dữ liệu thành công!\")\n",
        "    print(\"5 dòng đầu tiên của dữ liệu:\")\n",
        "    print(df.head())\n",
        "    print(\"\\nThông tin dữ liệu:\")\n",
        "    df.info()\n",
        "except Exception as e:\n",
        "    print(f\"Lỗi khi tải dữ liệu: {e}\")\n",
        "    # Thoát nếu không thể tải dữ liệu thực tế\n",
        "    exit()"
      ]
    },
    {
      "cell_type": "markdown",
      "metadata": {
        "id": "rRnIHUAMvQMi"
      },
      "source": [
        "## **3. Tiền xử lý dữ liệu**\n"
      ]
    },
    {
      "cell_type": "code",
      "execution_count": 5,
      "metadata": {
        "colab": {
          "base_uri": "https://localhost:8080/"
        },
        "id": "SCgEjsBBC3SQ",
        "outputId": "2f913df4-cc10-46f3-d7c2-d159d702558e"
      },
      "outputs": [
        {
          "name": "stdout",
          "output_type": "stream",
          "text": [
            "\n",
            "Số lượng mẫu sau khi loại bỏ NaN: 18183\n",
            "Phân bố các nhãn:\n",
            "POS    6816\n",
            "NEG    6669\n",
            "NEU    4698\n",
            "Name: label, dtype: int64\n"
          ]
        }
      ],
      "source": [
        "# Loại bỏ các hàng có giá trị NaN trong cột 'comment' hoặc 'label'\n",
        "df.dropna(subset=['comment', 'label'], inplace=True)\n",
        "\n",
        "# Chuyển đổi nhãn về định dạng thống nhất (ví dụ: chữ hoa)\n",
        "df['label'] = df['label'].astype(str).str.upper()\n",
        "\n",
        "print(f\"\\nSố lượng mẫu sau khi loại bỏ NaN: {len(df)}\")\n",
        "print(\"Phân bố các nhãn:\")\n",
        "print(df['label'].value_counts())"
      ]
    },
    {
      "cell_type": "markdown",
      "metadata": {
        "id": "ozzSGXGBvTTB"
      },
      "source": [
        "## **4. Chia tập dữ liệu Training và Testing**"
      ]
    },
    {
      "cell_type": "code",
      "execution_count": 6,
      "metadata": {
        "colab": {
          "base_uri": "https://localhost:8080/"
        },
        "id": "xjuRqS49C4XK",
        "outputId": "a23437f2-d779-4f79-a380-ff3e3be602cb"
      },
      "outputs": [
        {
          "name": "stdout",
          "output_type": "stream",
          "text": [
            "Số lượng mẫu trong tập huấn luyện: 14546\n",
            "Số lượng mẫu trong tập kiểm tra: 3637\n"
          ]
        }
      ],
      "source": [
        "\n",
        "# Định nghĩa features (X) và target (y)\n",
        "X = df['comment']\n",
        "y = df['label']\n",
        "\n",
        "# Chia dữ liệu thành tập huấn luyện và tập kiểm tra\n",
        "# test_size=0.2 có nghĩa là 20% dữ liệu sẽ được dùng để kiểm tra\n",
        "# random_state để đảm bảo kết quả chia dữ liệu là như nhau mỗi lần chạy\n",
        "X_train, X_test, y_train, y_test = train_test_split(X, y, test_size=0.2, random_state=42, stratify=y)\n",
        "\n",
        "print(f\"Số lượng mẫu trong tập huấn luyện: {len(X_train)}\")\n",
        "print(f\"Số lượng mẫu trong tập kiểm tra: {len(X_test)}\")\n"
      ]
    },
    {
      "cell_type": "markdown",
      "metadata": {
        "id": "HMx3heIrvYkV"
      },
      "source": [
        "## **5. Vector hóa văn bản (TF-IDF Vectorization)**"
      ]
    },
    {
      "cell_type": "code",
      "execution_count": 7,
      "metadata": {
        "colab": {
          "base_uri": "https://localhost:8080/"
        },
        "id": "iFU3uxFiC4UU",
        "outputId": "6a24cac5-7b87-45bd-ad7b-3b6f113adbba"
      },
      "outputs": [
        {
          "name": "stdout",
          "output_type": "stream",
          "text": [
            "Kích thước ma trận TF-IDF tập huấn luyện: (14546, 1557)\n",
            "Kích thước ma trận TF-IDF tập kiểm tra: (3637, 1557)\n"
          ]
        }
      ],
      "source": [
        "# Khởi tạo TF-IDF Vectorizer\n",
        "# max_features giới hạn số lượng từ/cụm từ độc nhất được xem xét\n",
        "# min_df bỏ qua các từ xuất hiện quá ít (ví dụ: chỉ 1 lần)\n",
        "# stop_words='english' loại bỏ các từ dừng tiếng Anh (nếu cần, bạn có thể tự xây dựng danh sách stop_words tiếng Việt)\n",
        "vectorizer = TfidfVectorizer(max_features=5000, min_df=5, stop_words=None) # Giữ stop_words=None nếu dữ liệu tiếng Việt\n",
        "\n",
        "# Học từ vựng từ tập huấn luyện và chuyển đổi văn bản thành ma trận TF-IDF\n",
        "X_train_vec = vectorizer.fit_transform(X_train)\n",
        "\n",
        "# Chỉ chuyển đổi tập kiểm tra bằng vectorizer đã được huấn luyện\n",
        "X_test_vec = vectorizer.transform(X_test)\n",
        "\n",
        "print(f\"Kích thước ma trận TF-IDF tập huấn luyện: {X_train_vec.shape}\")\n",
        "print(f\"Kích thước ma trận TF-IDF tập kiểm tra: {X_test_vec.shape}\")"
      ]
    },
    {
      "cell_type": "markdown",
      "metadata": {
        "id": "59M9eojXvc9d"
      },
      "source": [
        "## **6. Xây dựng và huấn luyện Model**"
      ]
    },
    {
      "cell_type": "code",
      "execution_count": 8,
      "metadata": {
        "colab": {
          "base_uri": "https://localhost:8080/"
        },
        "id": "j8-PiKMQC4Rk",
        "outputId": "69513ccf-0268-4870-a68f-33b09289ff14"
      },
      "outputs": [
        {
          "name": "stdout",
          "output_type": "stream",
          "text": [
            "\n",
            "Bắt đầu huấn luyện mô hình...\n",
            "Huấn luyện mô hình hoàn tất!\n"
          ]
        }
      ],
      "source": [
        "# Khởi tạo mô hình Logistic Regression\n",
        "# Logistic Regression là một lựa chọn tốt cho bài toán phân loại văn bản\n",
        "model = LogisticRegression(max_iter=1000, random_state=42)\n",
        "\n",
        "# Huấn luyện mô hình trên dữ liệu đã được vector hóa\n",
        "print(\"\\nBắt đầu huấn luyện mô hình...\")\n",
        "model.fit(X_train_vec, y_train)\n",
        "print(\"Huấn luyện mô hình hoàn tất!\")"
      ]
    },
    {
      "cell_type": "markdown",
      "metadata": {
        "id": "y-4MoOwmvgM6"
      },
      "source": [
        "## **7. Đánh giá Model**"
      ]
    },
    {
      "cell_type": "code",
      "execution_count": 9,
      "metadata": {
        "colab": {
          "base_uri": "https://localhost:8080/"
        },
        "id": "GjXDNmuAC4OW",
        "outputId": "52bbc938-50be-4ac2-9f3b-3d6f9a2a8cc6"
      },
      "outputs": [
        {
          "name": "stdout",
          "output_type": "stream",
          "text": [
            "\n",
            "Báo cáo phân loại:\n",
            "              precision    recall  f1-score   support\n",
            "\n",
            "         NEG       0.68      0.79      0.73      1334\n",
            "         NEU       0.48      0.35      0.41       940\n",
            "         POS       0.79      0.80      0.80      1363\n",
            "\n",
            "    accuracy                           0.68      3637\n",
            "   macro avg       0.65      0.65      0.64      3637\n",
            "weighted avg       0.67      0.68      0.67      3637\n",
            "\n",
            "Độ chính xác tổng thể (Accuracy): 0.6835\n"
          ]
        }
      ],
      "source": [
        "# Dự đoán nhãn trên tập kiểm tra\n",
        "y_pred = model.predict(X_test_vec)\n",
        "\n",
        "# In báo cáo phân loại\n",
        "print(\"\\nBáo cáo phân loại:\")\n",
        "print(classification_report(y_test, y_pred))\n",
        "\n",
        "# In độ chính xác tổng thể\n",
        "accuracy = accuracy_score(y_test, y_pred)\n",
        "print(f\"Độ chính xác tổng thể (Accuracy): {accuracy:.4f}\")"
      ]
    },
    {
      "cell_type": "markdown",
      "metadata": {
        "id": "5zm4jyfhvlE2"
      },
      "source": [
        "## **8. Xuất Model và Vectorizer**"
      ]
    },
    {
      "cell_type": "code",
      "execution_count": 10,
      "metadata": {
        "colab": {
          "base_uri": "https://localhost:8080/"
        },
        "id": "fPhWyuR5C4LR",
        "outputId": "807a40ff-2f33-4a2f-f4f0-1457d81648fd"
      },
      "outputs": [
        {
          "name": "stdout",
          "output_type": "stream",
          "text": [
            "\n",
            "Model đã được lưu tại: model/model.pkl\n",
            "Vectorizer đã được lưu tại: model/vectorizer.pkl\n"
          ]
        }
      ],
      "source": [
        "# Tạo thư mục 'model' nếu chưa tồn tại\n",
        "output_dir = 'model'\n",
        "os.makedirs(output_dir, exist_ok=True)\n",
        "\n",
        "# Định nghĩa đường dẫn để lưu model và vectorizer\n",
        "model_path = os.path.join(output_dir, 'model.pkl')\n",
        "vectorizer_path = os.path.join(output_dir, 'vectorizer.pkl')\n",
        "\n",
        "# Lưu model đã huấn luyện\n",
        "joblib.dump(model, model_path)\n",
        "print(f\"\\nModel đã được lưu tại: {model_path}\")\n",
        "\n",
        "# Lưu vectorizer đã huấn luyện\n",
        "joblib.dump(vectorizer, vectorizer_path)\n",
        "print(f\"Vectorizer đã được lưu tại: {vectorizer_path}\")\n",
        "\n",
        "# %% [markdown]"
      ]
    },
    {
      "cell_type": "markdown",
      "metadata": {
        "id": "ljnnueU2vvOC"
      },
      "source": [
        "## **9. Ví dụ sử dụng Model đã lưu**"
      ]
    },
    {
      "cell_type": "code",
      "execution_count": 23,
      "metadata": {
        "colab": {
          "base_uri": "https://localhost:8080/"
        },
        "id": "yhLeCVKwC4GR",
        "outputId": "8b36b89f-3546-4153-a288-06b1f8762fe3"
      },
      "outputs": [
        {
          "name": "stdout",
          "output_type": "stream",
          "text": [
            "\n",
            "Dự đoán cho các bình luận mới:\n",
            "- 'Sản phẩm rất tốt, tôi rất ưng ý!' -> Nhãn dự đoán: POS\n",
            "- 'Chất lượng kém, không đáng tiền chút nào.' -> Nhãn dự đoán: NEG\n",
            "- 'Bình thường' -> Nhãn dự đoán: NEU\n",
            "- 'Chán, dùng như hạch' -> Nhãn dự đoán: NEG\n",
            "- 'Tuyệt vời, tôi rất ưng ý!' -> Nhãn dự đoán: POS\n",
            "- 'nhàu nát, tôi sẽ trả lạitệ, khống đáng mua' -> Nhãn dự đoán: NEG\n",
            "- 'tạm ổn' -> Nhãn dự đoán: NEU\n",
            "- 'good, sẽ mua thêm cái nữa' -> Nhãn dự đoán: POS\n",
            "- 'tuyệt vời, sẽ rủ người thân mua' -> Nhãn dự đoán: POS\n"
          ]
        }
      ],
      "source": [
        "# Tải lại model và vectorizer để kiểm tra\n",
        "loaded_model = joblib.load(model_path)\n",
        "loaded_vectorizer = joblib.load(vectorizer_path)\n",
        "\n",
        "# Thử dự đoán với một câu bình luận mới\n",
        "new_comments = [\n",
        "    \"Sản phẩm rất tốt, tôi rất ưng ý!\",\n",
        "    \"Chất lượng kém, không đáng tiền chút nào.\",\n",
        "    \"Bình thường\",\n",
        "    \"Chán, dùng như hạch\",\n",
        "    \"Tuyệt vời, tôi rất ưng ý!\",\n",
        "    \"nhàu nát, tôi sẽ trả lại\"\n",
        "    \"tệ, khống đáng mua\",\n",
        "    \"tạm ổn\",\n",
        "    \"good, sẽ mua thêm cái nữa\",\n",
        "    \"tuyệt vời, sẽ rủ người thân mua\"\n",
        "]\n",
        "\n",
        "# Vector hóa các bình luận mới\n",
        "new_comments_vec = loaded_vectorizer.transform(new_comments)\n",
        "\n",
        "# Dự đoán nhãn\n",
        "predictions = loaded_model.predict(new_comments_vec)\n",
        "\n",
        "print(\"\\nDự đoán cho các bình luận mới:\")\n",
        "for comment, pred_label in zip(new_comments, predictions):\n",
        "    print(f\"- '{comment}' -> Nhãn dự đoán: {pred_label}\")\n"
      ]
    }
  ],
  "metadata": {
    "colab": {
      "provenance": []
    },
    "kernelspec": {
      "display_name": "venv",
      "language": "python",
      "name": "python3"
    },
    "language_info": {
      "codemirror_mode": {
        "name": "ipython",
        "version": 3
      },
      "file_extension": ".py",
      "mimetype": "text/x-python",
      "name": "python",
      "nbconvert_exporter": "python",
      "pygments_lexer": "ipython3",
      "version": "3.8.20"
    }
  },
  "nbformat": 4,
  "nbformat_minor": 0
}
